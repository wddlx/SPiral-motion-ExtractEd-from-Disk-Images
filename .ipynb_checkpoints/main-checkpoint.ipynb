{
 "cells": [
  {
   "cell_type": "code",
   "execution_count": 156,
   "metadata": {},
   "outputs": [],
   "source": [
    "import numpy as np\n",
    "from astropy.modeling import models, fitting\n",
    "import matplotlib.pyplot as plt\n",
    "from astropy.io import fits\n",
    "from scipy.optimize import curve_fit\n",
    "import os, math\n",
    "from scipy.interpolate import interp2d\n",
    "from scipy import ndimage, misc\n"
   ]
  },
  {
   "cell_type": "code",
   "execution_count": 157,
   "metadata": {},
   "outputs": [],
   "source": [
    "def tand(x):\n",
    "    return math.tan(x * math.pi / 180)\n",
    "\n",
    "\n",
    "def sind(x):\n",
    "    return math.sin(x * math.pi / 180)\n",
    "\n",
    "\n",
    "def cosd(x):\n",
    "    return math.cos(x * math.pi / 180)\n",
    "\n",
    "\n",
    "def gaussianDistributionFunction(x,A1,sigma1,miu1,A0):#gaussian distribution function\n",
    "    return A1*(1/((2**0.5)*sigma1))*math.e**((-(x-miu1)**2)/(2*sigma1**2)) + A0\n"
   ]
  },
  {
   "cell_type": "code",
   "execution_count": 158,
   "metadata": {},
   "outputs": [],
   "source": [
    "class spiralArmMotionCalculator:\n",
    "    def __init__(self, imgPath):\n",
    "        self.imgPath = imgPath\n",
    "        self.img = fits.open(imgPath)[0].data\n",
    "\n",
    "    #Convert the initial figure to polar\n",
    "    def converting(self, PA=0,inclination=0,final_radius=100,pw=360,r0=40,times=2,center=None):    \n",
    "        theta_ , R_ = np.meshgrid(np.linspace(0, 2*np.pi, pw), \n",
    "                                np.arange(0, final_radius))\n",
    "        if center == None:\n",
    "            center = [len(self.img)/2, len(self.img)/2]\n",
    "\n",
    "        x = np.linspace(0, len(self.img)-1, len(self.img), dtype=int)\n",
    "        y = np.linspace(0, len(self.img)-1, len(self.img), dtype=int)\n",
    "        f = interp2d(x,y,self.img,kind='cubic')\n",
    "        z2 = [[[]for i in range(pw)] for i in range(final_radius)]\n",
    "        theta = 0\n",
    "        while theta < 90:\n",
    "            r = 1\n",
    "            while r < final_radius:\n",
    "                rr = (r * ((sind(theta)*cosd(inclination))**2 + (cosd(theta))**2)**0.5)\n",
    "                x = rr * cosd(np.arctan(tand(theta)*cosd(inclination))*180/math.pi + PA) + center[0]\n",
    "                y = rr * sind(np.arctan(tand(theta)*cosd(inclination))*180/math.pi + PA) + center[1]\n",
    "                z2[r][theta] = float(f(x,y))*((rr/r0)**times)\n",
    "                r += 1\n",
    "            theta += 1\n",
    "        theta = 90\n",
    "        r = 1\n",
    "        while r < final_radius:\n",
    "            rr = (r * ((sind(theta)*cosd(inclination))**2 + (cosd(theta))**2)**0.5)\n",
    "            x = (r * (cosd(inclination))*cosd(90+PA)) + center[0]\n",
    "            y = (r * (cosd(inclination))*sind(90+PA)) + center[1]\n",
    "            z2[r][theta] = float(f(x,y))*((rr/r0)**times)\n",
    "            r += 1\n",
    "\n",
    "\n",
    "        theta = 91\n",
    "        while theta <= 180:\n",
    "            r = 1\n",
    "            while r < final_radius:\n",
    "                rr = (r * ((sind(theta)*cosd(inclination))**2+(cosd(theta))**2)**0.5)\n",
    "                x = rr * cosd(np.arctan(tand(theta)*cosd(inclination))*180/math.pi+180+PA) + center[0]\n",
    "                y = rr * sind(np.arctan(tand(theta)*cosd(inclination))*180/math.pi+180+PA) + center[1]\n",
    "                z2[r][theta] = float(f(x,y))*((rr/r0)**times)\n",
    "\n",
    "                r += 1\n",
    "            theta += 1\n",
    "\n",
    "        while theta < 270:\n",
    "            r = 1\n",
    "\n",
    "            while r < final_radius:\n",
    "                rr = (r * ((sind(theta)*cosd(inclination))**2+(cosd(theta))**2)**0.5)\n",
    "                x = rr * cosd(np.arctan(tand(theta)*cosd(inclination))*180/math.pi+180+PA) + center[0]\n",
    "                y = rr * sind(np.arctan(tand(theta)*cosd(inclination))*180/math.pi+180+PA) + center[1]\n",
    "                z2[r][theta] = float(f(x,y))*((rr/r0)**times)\n",
    "\n",
    "                r += 1\n",
    "            theta += 1\n",
    "\n",
    "        theta = 270\n",
    "        r = 1\n",
    "        while r < final_radius:\n",
    "            rr = (r * ((sind(theta)*cosd(inclination))**2+(cosd(theta))**2)**0.5)\n",
    "            x =- (r * (cosd(inclination))*cosd(90+PA)) + center[0]\n",
    "            y =- (r * (cosd(inclination))*sind(90+PA)) + center[1]\n",
    "            z2[r][theta] = float(f(x,y))*((rr/r0)**times)\n",
    "            r += 1\n",
    "        theta = 271\n",
    "        while theta < 360:\n",
    "            r = 1\n",
    "            while r < final_radius:\n",
    "                rr = (r * ((sind(theta)*cosd(inclination))**2+(cosd(theta))**2)**0.5)\n",
    "                x = (r * ((sind(theta)*cosd(inclination))**2+(cosd(theta))**2)**0.5) * cosd(np.arctan(tand(theta)*cosd(inclination))*180/math.pi+PA) + center[0]\n",
    "                y = (r * ((sind(theta)*cosd(inclination))**2+(cosd(theta))**2)**0.5) * sind(np.arctan(tand(theta)*cosd(inclination))*180/math.pi+PA) + center[1]\n",
    "                z2[r][theta] = float(f(x,y))*((rr/r0)**times)\n",
    "                r += 1\n",
    "            theta += 1\n",
    "\n",
    "        r = 0\n",
    "        theta = 0\n",
    "        while theta < 360:\n",
    "            z2[r][theta] = float(f(center[0],center[1]))\n",
    "            theta += 1\n",
    "        plt.imshow(z2, cmap= 'gray',origin='lower')\n",
    "        return z2\n",
    "    \n",
    "    \n",
    "    @staticmethod\n",
    "    def fitForCenter(img_p,x_init,x_fin,y_init,y_fin,width=10,mini=None,\n",
    "                   theta=None,rad=None,prob=None):\n",
    "        if theta == None and rad == None and prob == None:\n",
    "            theta = []\n",
    "            rad = []\n",
    "            prob = []\n",
    "        elif theta == None or rad == None or prob == None:\n",
    "            raise ValueError('please input theta, radius and probability together')\n",
    "        w = width\n",
    "        j = x_init\n",
    "        while (j <= x_fin):\n",
    "            X1 = []\n",
    "            Y1 = []\n",
    "            i = y_init\n",
    "            max1 = 0\n",
    "            a = 0\n",
    "            while i < y_fin:\n",
    "                if img_p[i][j] >= 0:\n",
    "                    y = img_p[i][j]\n",
    "                    X1.append(i)\n",
    "                    Y1.append(y)\n",
    "                    if img_p[i][j] > max1:\n",
    "                        max1 = img_p[i][j]\n",
    "                        a = i          #a is the location of the maximum \n",
    "                i += 1\n",
    "            xdata = X1\n",
    "            ydata = Y1\n",
    "            b = img_p[a][j]\n",
    "            c = w/2          \n",
    "            d1 = int(min(X1))             \n",
    "            cen = Y1.index(max(Y1))\n",
    "            w = width\n",
    "            popt, pcov = curve_fit(gaussianDistributionFunction,xdata[cen-w:cen+w],ydata[cen-w:cen+w],[b-d1,c,a,d1],maxfev = 5000000)\n",
    "\n",
    "            if (popt[2] < max(X1)) & (popt[2] > min(X1)):\n",
    "                rad.append(popt[2])\n",
    "                theta.append(j)\n",
    "                p = np.sqrt(pcov[2][2])\n",
    "                prob.append(p)\n",
    "            j += 1 \n",
    "        return theta, rad, prob\n",
    "    \n",
    "    \n",
    "    @staticmethod\n",
    "    def fitting(theta1,theta2,rad1,rad2,prob1,prob2,est=-0.1,withRn=True):\n",
    "        def f_withRn(X,rp,n,a0,a1,a2,a3,a4,a5):\n",
    "            z,y,k = X\n",
    "            x = z + y*rp*(k/60)**n\n",
    "            return a0+a1*x**1+a2*(x)**2+a3*(x)**3+a4*x**4+a5*x**5\n",
    "\n",
    "        def f_withoutRn(X,rp,n,a0,a1,a2,a3,a4,a5):\n",
    "            z,y = X\n",
    "            x = z + y*rp\n",
    "            return a0+a1*x**1+a2*(x)**2+a3*(x)**3+a4*x**4+a5*x**5\n",
    "\n",
    "        theta = np.hstack((theta1,theta2))\n",
    "        theta1b = np.zeros(len(theta1))\n",
    "        theta2b = np.ones(len(theta2))\n",
    "\n",
    "        thetab = np.hstack((theta1b,theta2b))\n",
    "        rad = np.hstack((rad1,rad2))\n",
    "        P = np.hstack((prob1,prob2))\n",
    "\n",
    "        if withRn == True:\n",
    "            thetaf = np.vstack((theta,thetab,rad))\n",
    "            popt, pcov = curve_fit(f_withRn,thetaf,rad,[est]*8,sigma=P,absolute_sigma=True,maxfev=5000000)\n",
    "\n",
    "        else:\n",
    "            thetaf = np.vstack((theta,thetab))\n",
    "            popt, pcov = curve_fit(f_withoutRn,thetaf,rad,[est]*7,sigma=P,absolute_sigma=True,maxfev=5000000)\n",
    "\n",
    "        return popt, pcov"
   ]
  },
  {
   "cell_type": "code",
   "execution_count": 159,
   "metadata": {},
   "outputs": [
    {
     "data": {
      "image/png": "[encoded data removed]",
      "text/plain": [
       "<Figure size 432x288 with 1 Axes>"
      ]
     },
     "metadata": {
      "needs_background": "light"
     },
     "output_type": "display_data"
    }
   ],
   "source": [
    "calculatorA = spiralArmMotionCalculator('x1a.fits')\n",
    "poa = calculatorA.converting(-50,0,150,360,40,2)\n",
    "calculatorB = spiralArmMotionCalculator('x1b.fits')\n",
    "pob = calculatorB.converting(-50,0,150,360,40,2)"
   ]
  },
  {
   "cell_type": "code",
   "execution_count": 160,
   "metadata": {},
   "outputs": [],
   "source": [
    "Z1,K1,P1=calculatorA.fitForCenter(poa,0,100,50,85,width=10,theta=None,rad=None,prob=None)\n",
    "Z2,K2,P2=calculatorB.fitForCenter(pob,0,100,50,85,width=10,\n",
    "                   theta=None,rad=None,prob=None)"
   ]
  },
  {
   "cell_type": "code",
   "execution_count": 161,
   "metadata": {},
   "outputs": [
    {
     "data": {
      "text/plain": [
       "[<matplotlib.lines.Line2D at 0x1274c0c50>]"
      ]
     },
     "execution_count": 161,
     "metadata": {},
     "output_type": "execute_result"
    },
    {
     "data": {
      "image/png": "[encoded data removed]",
      "text/plain": [
       "<Figure size 432x288 with 1 Axes>"
      ]
     },
     "metadata": {
      "needs_background": "light"
     },
     "output_type": "display_data"
    }
   ],
   "source": [
    "plt.plot(Z1, K1, 'r.')"
   ]
  },
  {
   "cell_type": "code",
   "execution_count": 162,
   "metadata": {},
   "outputs": [],
   "source": [
    "popt, pcov=spiralArmMotionCalculator.fitting(Z1,Z2,K1,K2,P1,P2,est=-0.1,withRn=True)"
   ]
  },
  {
   "cell_type": "code",
   "execution_count": 163,
   "metadata": {},
   "outputs": [
    {
     "data": {
      "text/plain": [
       "array([ 7.65649948e-02,  1.26970933e+01, -1.72425130e+04,  1.58691614e+03,\n",
       "       -4.70127915e+01,  6.31834158e-01, -4.01439880e-03,  9.83655741e-06])"
      ]
     },
     "execution_count": 163,
     "metadata": {},
     "output_type": "execute_result"
    }
   ],
   "source": [
    "popt"
   ]
  },
  {
   "cell_type": "code",
   "execution_count": null,
   "metadata": {},
   "outputs": [],
   "source": []
  }
 ],
 "metadata": {
  "kernelspec": {
   "display_name": "Python 3",
   "language": "python",
   "name": "python3"
  },
  "language_info": {
   "codemirror_mode": {
    "name": "ipython",
    "version": 3
   },
   "file_extension": ".py",
   "mimetype": "text/x-python",
   "name": "python",
   "nbconvert_exporter": "python",
   "pygments_lexer": "ipython3",
   "version": "3.8.5"
  }
 },
 "nbformat": 4,
 "nbformat_minor": 4
}
