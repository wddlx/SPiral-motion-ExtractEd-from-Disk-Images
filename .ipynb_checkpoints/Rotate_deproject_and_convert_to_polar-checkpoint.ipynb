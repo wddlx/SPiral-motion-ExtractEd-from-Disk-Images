{
 "cells": [
  {
   "cell_type": "code",
   "execution_count": 1,
   "metadata": {},
   "outputs": [],
   "source": [
    "import numpy as np\n",
    "from astropy.modeling import models, fitting\n",
    "import matplotlib.pyplot as plt\n",
    "from astropy.io import fits\n",
    "from scipy.optimize import curve_fit\n",
    "import math\n",
    "import os\n",
    "from scipy.interpolate import interp2d\n",
    "from scipy import ndimage, misc"
   ]
  },
  {
   "cell_type": "code",
   "execution_count": 2,
   "metadata": {},
   "outputs": [],
   "source": [
    "def tand(x):\n",
    "    return math.tan(x * math.pi / 180)\n",
    "\n",
    "def sind(x):\n",
    "    return math.sin(x * math.pi / 180)\n",
    "\n",
    "def cosd(x):\n",
    "    return math.cos(x * math.pi / 180)"
   ]
  },
  {
   "cell_type": "code",
   "execution_count": 3,
   "metadata": {},
   "outputs": [],
   "source": [
    "def converting(img,PA=0,inclination=0,final_radius=100,pw=360,r0=40,times=2,center=None,shcamp='gray'):    \n",
    "    theta_ , R_ = np.meshgrid(np.linspace(0, 2*np.pi, pw), \n",
    "                            np.arange(0, final_radius))\n",
    "    if center==None:\n",
    "        center=[len(img)/2,len(img)/2]\n",
    "    \n",
    "    x=np.linspace(0, len(img)-1,len(img), dtype=int)\n",
    "    y=np.linspace(0, len(img)-1,len(img), dtype=int)\n",
    "    f=interp2d(x,y,img,kind='cubic')\n",
    "    z2=[[[]for i in range(pw)]for i in range(final_radius)]\n",
    "    theta=0\n",
    "    while theta<90:\n",
    "        r=1\n",
    "        while r<final_radius:\n",
    "            rr=(r*((sind(theta)*cosd(inclination))**2+(cosd(theta))**2)**0.5)\n",
    "            x=rr*cosd(np.arctan(tand(theta)*cosd(inclination))*180/math.pi+PA)+center[0]\n",
    "            y=rr*sind(np.arctan(tand(theta)*cosd(inclination))*180/math.pi+PA)+center[1]\n",
    "            z2[r][theta]=float(f(x,y))*((rr/r0)**times)\n",
    "\n",
    "            r+=1\n",
    "        theta+=1\n",
    "    theta=90\n",
    "    r=1\n",
    "    while r<final_radius:\n",
    "        rr=(r*((sind(theta)*cosd(inclination))**2+(cosd(theta))**2)**0.5)\n",
    "        x=(r*(cosd(inclination))*cosd(90+PA))+center[0]\n",
    "        y=(r*(cosd(inclination))*sind(90+PA))+center[1]\n",
    "        z2[r][theta]=float(f(x,y))*((rr/r0)**times)\n",
    "        r+=1\n",
    "\n",
    "\n",
    "    theta=91\n",
    "    while theta<=180:\n",
    "        r=1\n",
    "        while r<final_radius:\n",
    "            rr=(r*((sind(theta)*cosd(inclination))**2+(cosd(theta))**2)**0.5)\n",
    "            x=rr*cosd(np.arctan(tand(theta)*cosd(inclination))*180/math.pi+180+PA)+center[0]\n",
    "            y=rr*sind(np.arctan(tand(theta)*cosd(inclination))*180/math.pi+180+PA)+center[1]\n",
    "            z2[r][theta]=float(f(x,y))*((rr/r0)**times)\n",
    "\n",
    "            r+=1\n",
    "        theta+=1\n",
    "\n",
    "    while theta<270:\n",
    "        r=1\n",
    "\n",
    "        while r<final_radius:\n",
    "            rr=(r*((sind(theta)*cosd(inclination))**2+(cosd(theta))**2)**0.5)\n",
    "            x=rr*cosd(np.arctan(tand(theta)*cosd(inclination))*180/math.pi+180+PA)+center[0]\n",
    "            y=rr*sind(np.arctan(tand(theta)*cosd(inclination))*180/math.pi+180+PA)+center[1]\n",
    "            z2[r][theta]=float(f(x,y))*((rr/r0)**times)\n",
    "\n",
    "            r+=1\n",
    "        theta+=1\n",
    "\n",
    "    theta=270\n",
    "    r=1\n",
    "    while r<final_radius:\n",
    "        rr=(r*((sind(theta)*cosd(inclination))**2+(cosd(theta))**2)**0.5)\n",
    "        x=-(r*(cosd(inclination))*cosd(90+PA))+center[0]\n",
    "        y=-(r*(cosd(inclination))*sind(90+PA))+center[1]\n",
    "        z2[r][theta]=float(f(x,y))*((rr/r0)**times)\n",
    "        r+=1\n",
    "    theta=271\n",
    "    while theta<360:\n",
    "        r=1\n",
    "        while r<final_radius:\n",
    "            rr=(r*((sind(theta)*cosd(inclination))**2+(cosd(theta))**2)**0.5)\n",
    "            x=(r*((sind(theta)*cosd(inclination))**2+(cosd(theta))**2)**0.5)*cosd(np.arctan(tand(theta)*cosd(inclination))*180/math.pi+PA)+center[0]\n",
    "            y=(r*((sind(theta)*cosd(inclination))**2+(cosd(theta))**2)**0.5)*sind(np.arctan(tand(theta)*cosd(inclination))*180/math.pi+PA)+center[1]\n",
    "            z2[r][theta]=float(f(x,y))*((rr/r0)**times)\n",
    "            r+=1\n",
    "        theta+=1\n",
    "\n",
    "\n",
    "    r=0\n",
    "    theta=0\n",
    "    while theta<360:\n",
    "        z2[r][theta]=float(f(center[0],center[1]))\n",
    "        theta+=1\n",
    "    plt.imshow(z2, cmap= shcamp,origin='lower')\n",
    "    return z2"
   ]
  },
  {
   "cell_type": "code",
   "execution_count": null,
   "metadata": {},
   "outputs": [],
   "source": []
  },
  {
   "cell_type": "code",
   "execution_count": 4,
   "metadata": {},
   "outputs": [],
   "source": [
    "def gs(x,A1,sigma1,miu1,A0):#gaussian distribution function\n",
    "    return A1*(1/((2**0.5)*sigma1))*math.e**((-(x-miu1)**2)/(2*sigma1**2))+A0"
   ]
  },
  {
   "cell_type": "code",
   "execution_count": 5,
   "metadata": {},
   "outputs": [],
   "source": [
    "def fit_for_center(img_p,x_init,x_fin,y_init,y_fin,width=10,\n",
    "                   theta=None,rad=None,prob=None):\n",
    "    if (theta==None) & (rad==None) & (prob==None):\n",
    "        theta=[]\n",
    "        rad=[]\n",
    "        prob=[]\n",
    "    elif (theta==None) or (rad==None) or (prob==None):\n",
    "        raise ValueError('please input theta, radius and probability together')\n",
    "    w=width\n",
    "    j=x_init\n",
    "    while (j <=x_fin):\n",
    "        X1=[]\n",
    "        Y1=[]\n",
    "        i=y_init\n",
    "        max1=0\n",
    "        a=0\n",
    "        while i < y_fin:\n",
    "            if img_p[i][j]>=0:\n",
    "                y=img_p[i][j]\n",
    "                X1.append(i)\n",
    "                Y1.append(y)\n",
    "                if img_p[i][j]>max1:\n",
    "                    max1=img_p[i][j]\n",
    "                    a=i          #a is the location of the maximum \n",
    "            i+=1\n",
    "        xdata=X1\n",
    "        ydata=Y1\n",
    "        b=img_p[a][j]\n",
    "        c=w/2          \n",
    "        d1=int(min(X1))             \n",
    "        cen=Y1.index(max(Y1))\n",
    "        w=width\n",
    "        popt, pcov = curve_fit(gs,xdata[cen-w:cen+w],ydata[cen-w:cen+w],[b-d1,c,a,d1],maxfev=5000000)\n",
    "\n",
    "        if (popt[2] < max(X1))&(popt[2] > min(X1)):\n",
    "            rad.append(popt[2])\n",
    "            theta.append(j)\n",
    "            p=np.sqrt(pcov[2][2])\n",
    "            prob.append(p)\n",
    "        j+=1 \n",
    "    return theta, rad, prob\n",
    "    "
   ]
  },
  {
   "cell_type": "code",
   "execution_count": 6,
   "metadata": {},
   "outputs": [],
   "source": [
    "def f_withRn(X,rp,n,a0,a1,a2,a3,a4,a5):\n",
    "    z,y,k=X\n",
    "    x=z+y*rp*(k/60)**n\n",
    "    return a0+a1*x**1+a2*(x)**2+a3*(x)**3+a4*x**4+a5*x**5\n",
    "\n",
    "def f_withoutRn(X,rp,a0,a1,a2,a3,a4,a5):\n",
    "    z,y=X\n",
    "    x=z+y*rp\n",
    "    return a0+a1*x**1+a2*(x)**2+a3*(x)**3+a4*x**4+a5*x**5"
   ]
  },
  {
   "cell_type": "code",
   "execution_count": 7,
   "metadata": {},
   "outputs": [],
   "source": [
    "def fitting(theta1,theta2,rad1,rad2,prob1,prob2,est=-0.1,withRn=True):\n",
    "    \n",
    "    theta=np.hstack((theta1,theta2))\n",
    "    theta1b=np.zeros(len(theta1))\n",
    "    theta2b=np.ones(len(theta2))\n",
    "    \n",
    "    thetab=np.hstack((theta1b,theta2b))\n",
    "    rad=np.hstack((rad1,rad2))\n",
    "    P=np.hstack((prob1,prob2))\n",
    "\n",
    "    if withRn==True:\n",
    "        thetaf=np.vstack((theta,thetab,rad))\n",
    "        popt, pcov = curve_fit(f_withRn,thetaf,rad,[est]*8,sigma=P,absolute_sigma=True,maxfev=5000000)\n",
    "\n",
    "    else:\n",
    "        thetaf=np.vstack((theta,thetab))\n",
    "        popt, pcov = curve_fit(f_withoutRn,thetaf,rad,[est]*7,sigma=P,absolute_sigma=True,maxfev=5000000)\n",
    "    \n",
    "    return popt, pcov\n"
   ]
  },
  {
   "cell_type": "code",
   "execution_count": 8,
   "metadata": {},
   "outputs": [],
   "source": [
    "xaa=fits.open('x1a.fits')\n",
    "xbb=fits.open('x1b.fits')"
   ]
  },
  {
   "cell_type": "code",
   "execution_count": 9,
   "metadata": {},
   "outputs": [
    {
     "data": {
      "image/png": "[encoded data removed]",
      "text/plain": [
       "<Figure size 432x288 with 1 Axes>"
      ]
     },
     "metadata": {
      "needs_background": "light"
     },
     "output_type": "display_data"
    }
   ],
   "source": [
    "xa=xaa[0].data\n",
    "xb=xbb[0].data\n",
    "poa=converting(xa,-50,0,150,360,40,2)\n",
    "pob=converting(xb,-50,0,150,360,40,2)"
   ]
  },
  {
   "cell_type": "code",
   "execution_count": 10,
   "metadata": {},
   "outputs": [],
   "source": [
    "Z1,K1,P1=fit_for_center(poa,0,100,50,85,width=10,\n",
    "                   theta=None,rad=None,prob=None)\n",
    "#Z1,K1,P1=fit_for_center(poa,71,100,50,95,width=10,\n",
    "#                   theta=Z1,rad=K1,prob=P1)\n",
    "Z2,K2,P2=fit_for_center(pob,0,100,50,85,width=10,\n",
    "                   theta=None,rad=None,prob=None)\n",
    "#Z2,K2,P2=fit_for_center(pob,71,100,50,95,width=10,\n",
    "#                   theta=Z2,rad=K2,prob=P2)\n"
   ]
  },
  {
   "cell_type": "code",
   "execution_count": 11,
   "metadata": {},
   "outputs": [
    {
     "data": {
      "text/plain": [
       "[<matplotlib.lines.Line2D at 0x7fb550461160>]"
      ]
     },
     "execution_count": 11,
     "metadata": {},
     "output_type": "execute_result"
    },
    {
     "data": {
      "image/png": "[encoded data removed]",
      "text/plain": [
       "<Figure size 432x288 with 1 Axes>"
      ]
     },
     "metadata": {
      "needs_background": "light"
     },
     "output_type": "display_data"
    }
   ],
   "source": [
    "plt.plot(Z1, K1, 'r.')"
   ]
  },
  {
   "cell_type": "code",
   "execution_count": 12,
   "metadata": {},
   "outputs": [
    {
     "data": {
      "text/plain": [
       "[<matplotlib.lines.Line2D at 0x7fb5436a4220>]"
      ]
     },
     "execution_count": 12,
     "metadata": {},
     "output_type": "execute_result"
    },
    {
     "data": {
      "image/png": "[encoded data removed]",
      "text/plain": [
       "<Figure size 432x288 with 1 Axes>"
      ]
     },
     "metadata": {
      "needs_background": "light"
     },
     "output_type": "display_data"
    }
   ],
   "source": [
    "plt.plot(Z2, K2, 'r.')"
   ]
  },
  {
   "cell_type": "code",
   "execution_count": 13,
   "metadata": {},
   "outputs": [
    {
     "name": "stderr",
     "output_type": "stream",
     "text": [
      "/Users/xiechengyan/opt/anaconda3/lib/python3.8/site-packages/scipy/optimize/minpack.py:828: OptimizeWarning: Covariance of the parameters could not be estimated\n",
      "  warnings.warn('Covariance of the parameters could not be estimated',\n"
     ]
    }
   ],
   "source": [
    "popt, pcov=fitting(Z1,Z2,K1,K2,P1,P2,est=-0.1,withRn=True)"
   ]
  },
  {
   "cell_type": "code",
   "execution_count": 14,
   "metadata": {},
   "outputs": [
    {
     "name": "stdout",
     "output_type": "stream",
     "text": [
      "[-2.26163383e+01 -6.52364804e+02  3.95560756e+03  7.64366038e+02\n",
      " -3.66502486e+01  6.03857000e-01 -4.33376033e-03  1.15710661e-05]\n"
     ]
    }
   ],
   "source": [
    "print(popt)"
   ]
  },
  {
   "cell_type": "code",
   "execution_count": null,
   "metadata": {},
   "outputs": [],
   "source": []
  }
 ],
 "metadata": {
  "kernelspec": {
   "display_name": "Python 3",
   "language": "python",
   "name": "python3"
  },
  "language_info": {
   "codemirror_mode": {
    "name": "ipython",
    "version": 3
   },
   "file_extension": ".py",
   "mimetype": "text/x-python",
   "name": "python",
   "nbconvert_exporter": "python",
   "pygments_lexer": "ipython3",
   "version": "3.8.5"
  }
 },
 "nbformat": 4,
 "nbformat_minor": 4
}
